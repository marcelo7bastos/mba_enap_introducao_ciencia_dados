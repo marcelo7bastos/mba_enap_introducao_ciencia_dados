{
  "nbformat": 4,
  "nbformat_minor": 0,
  "metadata": {
    "kernelspec": {
      "name": "python3",
      "display_name": "Python 3"
    },
    "language_info": {
      "name": "python"
    }
  },
  "cells": [
    {
      "cell_type": "markdown",
      "metadata": {},
      "source": [
        "# ETL para carregar o PIB, População e o Centróide dos municípios\n",
        "**Versão adaptada para ambiente local**"
      ]
    },
    {
      "cell_type": "code",
      "metadata": {},
      "source": [
        "# Versão local - removida autenticação do Google Colab\n",
        "import pandas as pd\n",
        "import os\n",
        "import subprocess\n",
        "import sys\n",
        "print('Ambiente local configurado!')"
      ],
      "execution_count": null,
      "outputs": []
    },
    {
      "cell_type": "markdown",
      "metadata": {},
      "source": [
        "## Pré-processamento dos centroides dos municipios"
      ]
    },
    {
      "cell_type": "markdown",
      "metadata": {},
      "source": [
        "### Solução 1 - Processamento do arquivo de banco de dados (dbf)"
      ]
    },
    {
      "cell_type": "code",
      "metadata": {},
      "source": [
        "# Instalar biblioteca dbf se necessário\n",
        "try:\n",
        "    import dbf\n",
        "    print(\"Biblioteca 'dbf' já está instalada\")\n",
        "except ImportError:\n",
        "    print(\"Instalando biblioteca 'dbf'...\")\n",
        "    subprocess.check_call([sys.executable, \"-m\", \"pip\", \"install\", \"dbf\"])\n",
        "    import dbf\n",
        "    print(\"Biblioteca 'dbf' instalada com sucesso!\")"
      ],
      "execution_count": null,
      "outputs": []
    },
    {
      "cell_type": "code",
      "metadata": {},
      "source": [
        "# Download do arquivo de dados (equivalente ao !wget)\n",
        "import urllib.request\n",
        "import os\n",
        "\n",
        "url = \"https://github.com/renatocol/Latitude_Longitude_Brasil/raw/master/BR_Localidades_2010.dbf\"\n",
        "filename = \"BR_Localidades_2010.dbf\"\n",
        "\n",
        "if not os.path.exists(filename):\n",
        "    print(f\"Baixando {filename}...\")\n",
        "    urllib.request.urlretrieve(url, filename)\n",
        "    print(f\"Download concluído: {filename}\")\n",
        "else:\n",
        "    print(f\"Arquivo {filename} já existe\")\n",
        "\n",
        "# Listar arquivos no diretório atual (equivalente ao !ls)\n",
        "print(\"\\nArquivos no diretório atual:\")\n",
        "for item in os.listdir('.'):\n",
        "    if os.path.isfile(item):\n",
        "        size = os.path.getsize(item)\n",
        "        print(f\"{item} ({size:,} bytes)\")\n",
        "    else:\n",
        "        print(f\"{item}/ (diretório)\")"
      ],
      "execution_count": null,
      "outputs": []
    },
    {
      "cell_type": "code",
      "metadata": {},
      "source": [
        "import dbf\n",
        "import pandas as pd\n",
        "\n",
        "table = dbf.Table(filename='./BR_Localidades_2010.dbf')\n",
        "table.open(dbf.READ_ONLY)\n",
        "df = pd.DataFrame(table)\n",
        "table.close()\n",
        "\n",
        "print(df)"
      ],
      "execution_count": null,
      "outputs": []
    },
    {
      "cell_type": "code",
      "metadata": {},
      "source": [
        "df.head()"
      ],
      "execution_count": null,
      "outputs": []
    },
    {
      "cell_type": "code",
      "metadata": {},
      "source": [
        "# Equivalente SQL: select col9 as cod_ibge, col16 as categoria, col18 as long, col19 as lat from df\n",
        "df_geo = df[[9,16,18,19]].rename(columns={9:\"cod_ibge\", 16:\"categoria\", 18:\"long\", 19:\"lat\"})\n",
        "df_geo['cod_ibge'] = df_geo['cod_ibge'].str.strip()\n",
        "df_geo['categoria'] = df_geo['categoria'].str.strip()\n",
        "df_geo = df_geo[df_geo['categoria']=='CIDADE']\n",
        "df_geo.info()"
      ],
      "execution_count": null,
      "outputs": []
    },
    {
      "cell_type": "code",
      "metadata": {},
      "source": [
        "df_geo['lat_long'] = df_geo[['lat','long']].apply(lambda x: f\"{str(x['lat']).replace(',','.')},{str(x['long']).replace(',','.')}\", axis=1)\n",
        "df_geo.head()"
      ],
      "execution_count": null,
      "outputs": []
    },
    {
      "cell_type": "code",
      "metadata": {},
      "source": [
        "cat = 'CIDADE      '\n",
        "cat.strip()"
      ],
      "execution_count": null,
      "outputs": []
    },
    {
      "cell_type": "markdown",
      "metadata": {},
      "source": [
        "### Solução 2 - Converter o arquivo dbf para xlsx usando o excel. Processar o arquivo xlsx com o pandas\n",
        "#### Vantagem: mais rápido do que o pandas processar o arquivo dbf.\n",
        "#### URL do arquivo exportado para xlsx https://github.com/alexlopespereira/mba_enap/raw/refs/heads/main/data/originais/centroide_municipios/BR_Localidades_2010_v1.xlsx"
      ]
    },
    {
      "cell_type": "code",
      "metadata": {},
      "source": [
        "# Use a biblioteca pandas.\n",
        "import pandas as pd\n",
        "\n",
        "# Instalar openpyxl se necessário para ler arquivos Excel\n",
        "try:\n",
        "    import openpyxl\n",
        "except ImportError:\n",
        "    print(\"Instalando openpyxl para leitura de arquivos Excel...\")\n",
        "    subprocess.check_call([sys.executable, \"-m\", \"pip\", \"install\", \"openpyxl\"])\n",
        "    import openpyxl\n",
        "\n",
        "# Leia o arquivo Excel disponível em: # https://github.com/alexlopespereira/mba_enap/raw/refs/heads/main/data/originais/centroide_municipios/BR_Localidades_2010_v1.xlsx\n",
        "# Garanta que a coluna \"CD_GEOCODM,C,20\" seja importada como texto (str).\n",
        "df_xlsx = pd.read_excel('https://github.com/alexlopespereira/mba_enap/raw/refs/heads/main/data/originais/centroide_municipios/BR_Localidades_2010_v1.xlsx', dtype={'CD_GEOCODM,C,20':str})\n",
        "# Mostre as 5 primeiras linhas do dataframe.\n",
        "df_xlsx.head()"
      ],
      "execution_count": null,
      "outputs": []
    },
    {
      "cell_type": "code",
      "metadata": {},
      "source": [
        "df_xlsx.columns"
      ],
      "execution_count": null,
      "outputs": []
    },
    {
      "cell_type": "code",
      "metadata": {},
      "source": [
        "# Crie um novo dataframe chamado dfxlsx_geo contendo apenas as colunas:\n",
        "# \"CD_GEOCODM,C,20\" → renomeada para \"cod_ibge\"\n",
        "# \"NM_CATEGOR,C,50\" → renomeada para \"categoria\"\n",
        "# \"LONG,N,24,6\" → renomeada para \"long\"\n",
        "# \"LAT,N,24,6\" → renomeada para \"lat\"\n",
        "\n",
        "dfxlsx_geo = df_xlsx[['CD_GEOCODM,C,20','NM_CATEGOR,C,50','LONG,N,24,6','LAT,N,24,6']].rename(columns={'CD_GEOCODM,C,20':\"cod_ibge\", 'NM_CATEGOR,C,50':\"categoria\", 'LONG,N,24,6':\"long\", 'LAT,N,24,6':\"lat\"})\n",
        "dfxlsx_geo.head()"
      ],
      "execution_count": null,
      "outputs": []
    },
    {
      "cell_type": "code",
      "metadata": {},
      "source": [
        "# Filtrar apenas cidades\n",
        "dfxlsx_geo_cidades = dfxlsx_geo[dfxlsx_geo['categoria'] == 'CIDADE'].copy()\n",
        "print(f\"Total de cidades: {len(dfxlsx_geo_cidades)}\")\n",
        "dfxlsx_geo_cidades.head()"
      ],
      "execution_count": null,
      "outputs": []
    },
    {
      "cell_type": "code",
      "metadata": {},
      "source": [
        "# Criar coluna lat_long\n",
        "dfxlsx_geo_cidades['lat_long'] = dfxlsx_geo_cidades[['lat','long']].apply(lambda x: f\"{str(x['lat']).replace(',','.')},{str(x['long']).replace(',','.')}\", axis=1)\n",
        "dfxlsx_geo_cidades.head()"
      ],
      "execution_count": null,
      "outputs": []
    },
    {
      "cell_type": "code",
      "metadata": {},
      "source": [
        "# Informações sobre o dataset final\n",
        "print(\"Informações do dataset de cidades:\")\n",
        "dfxlsx_geo_cidades.info()\n",
        "print(\"\\nEstatísticas descritivas:\")\n",
        "dfxlsx_geo_cidades.describe()"
      ],
      "execution_count": null,
      "outputs": []
    },
    {
      "cell_type": "code",
      "metadata": {},
      "source": [
        "# Salvar resultado em arquivo CSV para uso posterior\n",
        "output_file = 'municipios_coordenadas.csv'\n",
        "dfxlsx_geo_cidades.to_csv(output_file, index=False)\n",
        "print(f\"Dados salvos em: {output_file}\")\n",
        "print(f\"Arquivo contém {len(dfxlsx_geo_cidades)} registros de municípios brasileiros\")"
      ],
      "execution_count": null,
      "outputs": []
    }
  ]
}
